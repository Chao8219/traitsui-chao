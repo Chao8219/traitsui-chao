{
 "cells": [
  {
   "cell_type": "code",
   "execution_count": 38,
   "metadata": {},
   "outputs": [],
   "source": [
    "import traits.api as t_api\n",
    "import numpy\n",
    "import traitsui.api as tui_api\n",
    "import matplotlib\n",
    "import wx\n",
    "matplotlib.use('WXAgg')\n",
    "from matplotlib.backends.backend_wxagg import FigureCanvasWxAgg\n",
    "from matplotlib.figure import Figure\n",
    "from matplotlib.backends.backend_wx import NavigationToolbar2Wx"
   ]
  },
  {
   "cell_type": "markdown",
   "metadata": {},
   "source": [
    "# 1. Traits"
   ]
  },
  {
   "cell_type": "code",
   "execution_count": 107,
   "metadata": {},
   "outputs": [],
   "source": [
    "class Example(t_api.HasTraits):\n",
    "    name = t_api.Str('John')\n",
    "    array = t_api.Array(dtype=numpy.ndarray, \n",
    "                        shape=(2, 2), \n",
    "                        value=numpy.array(([1, 0], [0, 2])))\n",
    "    code = t_api.Code('import sys')\n",
    "    either = t_api.Either(t_api.Int, t_api.Float)\n",
    "    enum = t_api.Enum(1.0, 2.0, 'c')\n",
    "    what_range = t_api.Range(low=0.0, high=100.0, label='What Range?')\n",
    "\n",
    "test_obj = Example()"
   ]
  },
  {
   "cell_type": "code",
   "execution_count": 108,
   "metadata": {},
   "outputs": [
    {
     "data": {
      "text/plain": [
       "False"
      ]
     },
     "execution_count": 108,
     "metadata": {},
     "output_type": "execute_result"
    }
   ],
   "source": [
    "test_obj.configure_traits()"
   ]
  },
  {
   "cell_type": "markdown",
   "metadata": {},
   "source": [
    "# 2. Button Callback()"
   ]
  },
  {
   "cell_type": "code",
   "execution_count": 24,
   "metadata": {},
   "outputs": [],
   "source": [
    "class Calculator(t_api.HasTraits):\n",
    "    num_1 = t_api.Float(0.0)\n",
    "    num_2 = t_api.Float(0.0)\n",
    "    result = t_api.Float(0.0)\n",
    "    plus_button = t_api.Button(label='+')\n",
    "    minus_button = t_api.Button(label='-')\n",
    "    mul_button = t_api.Button(label='*')\n",
    "    div_button = t_api.Button(label='/')\n",
    "    \n",
    "    button_row1 = tui_api.HGroup(tui_api.Item('plus_button',show_label=False), \n",
    "                                 tui_api.Item('minus_button',show_label=False))\n",
    "    button_row2 = tui_api.HGroup(tui_api.Item('mul_button',show_label=False), \n",
    "                                 tui_api.Item('div_button',show_label=False))\n",
    "    \n",
    "    \n",
    "    view = tui_api.View(tui_api.Item('num_1'), \n",
    "                        tui_api.Item('num_2'), '_',\n",
    "                        tui_api.Item('result', style='readonly'),\n",
    "                        button_row1, \n",
    "                        button_row2)\n",
    "    \n",
    "    def _plus_button_fired(self):\n",
    "        self.result = self.num_1 + self.num_2\n",
    "    \n",
    "    def _minus_button_fired(self):\n",
    "        self.result = self.num_1 - self.num_2\n",
    "    \n",
    "    def _mul_button_fired(self):\n",
    "        self.result = self.num_1 * self.num_2\n",
    "\n",
    "    def _div_button_fired(self):\n",
    "        self.result = self.num_1 / self.num_2\n",
    "\n",
    "cal_object = Calculator()"
   ]
  },
  {
   "cell_type": "code",
   "execution_count": 26,
   "metadata": {},
   "outputs": [
    {
     "data": {
      "text/plain": [
       "True"
      ]
     },
     "execution_count": 26,
     "metadata": {},
     "output_type": "execute_result"
    }
   ],
   "source": [
    "cal_object.configure_traits()"
   ]
  },
  {
   "cell_type": "markdown",
   "metadata": {},
   "source": [
    "# 3. Matplotlib"
   ]
  },
  {
   "cell_type": "code",
   "execution_count": 33,
   "metadata": {},
   "outputs": [],
   "source": [
    "class Whatssup(t_api.HasTraits):\n",
    "    color = t_api.Enum('red', 'blue', 'yellow')\n",
    "    shade_level = t_api.Int(0)\n",
    "\n",
    "test_obj = Whatssup()"
   ]
  },
  {
   "cell_type": "code",
   "execution_count": 34,
   "metadata": {},
   "outputs": [
    {
     "data": {
      "text/plain": [
       "True"
      ]
     },
     "execution_count": 34,
     "metadata": {},
     "output_type": "execute_result"
    }
   ],
   "source": [
    "test_obj.configure_traits()"
   ]
  },
  {
   "cell_type": "code",
   "execution_count": null,
   "metadata": {},
   "outputs": [],
   "source": []
  }
 ],
 "metadata": {
  "kernelspec": {
   "display_name": "Python 3",
   "language": "python",
   "name": "python3"
  },
  "language_info": {
   "codemirror_mode": {
    "name": "ipython",
    "version": 3
   },
   "file_extension": ".py",
   "mimetype": "text/x-python",
   "name": "python",
   "nbconvert_exporter": "python",
   "pygments_lexer": "ipython3",
   "version": "3.6.9"
  }
 },
 "nbformat": 4,
 "nbformat_minor": 2
}
