{
 "cells": [
  {
   "cell_type": "code",
   "execution_count": 111,
   "metadata": {},
   "outputs": [],
   "source": [
    "import traits.api as t_api\n",
    "import numpy\n",
    "import traitsui.api as tui_api"
   ]
  },
  {
   "cell_type": "markdown",
   "metadata": {},
   "source": [
    "# 1. Traits"
   ]
  },
  {
   "cell_type": "code",
   "execution_count": 107,
   "metadata": {},
   "outputs": [],
   "source": [
    "class Example(t_api.HasTraits):\n",
    "    name = t_api.Str('John')\n",
    "    array = t_api.Array(dtype=numpy.ndarray, \n",
    "                        shape=(2, 2), \n",
    "                        value=numpy.array(([1, 0], [0, 2])))\n",
    "    code = t_api.Code('import sys')\n",
    "    either = t_api.Either(t_api.Int, t_api.Float)\n",
    "    enum = t_api.Enum(1.0, 2.0, 'c')\n",
    "    what_range = t_api.Range(low=0.0, high=100.0, label='What Range?')\n",
    "\n",
    "test_obj = Example()"
   ]
  },
  {
   "cell_type": "code",
   "execution_count": 108,
   "metadata": {},
   "outputs": [
    {
     "data": {
      "text/plain": [
       "False"
      ]
     },
     "execution_count": 108,
     "metadata": {},
     "output_type": "execute_result"
    }
   ],
   "source": [
    "test_obj.configure_traits()"
   ]
  },
  {
   "cell_type": "markdown",
   "metadata": {},
   "source": [
    "# 2. Button Callback()"
   ]
  },
  {
   "cell_type": "code",
   "execution_count": 145,
   "metadata": {},
   "outputs": [],
   "source": [
    "class Calculator(t_api.HasTraits):\n",
    "    num_1 = t_api.Float(0.0)\n",
    "    num_2 = t_api.Float(0.0)\n",
    "    result = t_api.Float(0.0)\n",
    "    plus_button = t_api.Button(label='+')\n",
    "    minus_button = t_api.Button(label='-')\n",
    "    mul_button = t_api.Button(label='*')\n",
    "    div_button = t_api.Button(label='/')\n",
    "    \n",
    "    button_row1 = tui_api.HGroup(tui_api.Item('plus_button',show_label=False), \n",
    "                                 tui_api.Item('minus_button',show_label=False))\n",
    "    button_row2 = tui_api.HGroup(tui_api.Item('mul_button',show_label=False), \n",
    "                                 tui_api.Item('div_button',show_label=False))\n",
    "    \n",
    "    \n",
    "    view = tui_api.View(tui_api.Item('num_1'), \n",
    "                        tui_api.Item('num_2'), '_',\n",
    "                        tui_api.Item('result', style='readonly'),\n",
    "                        button_row1, \n",
    "                        button_row2)\n",
    "    \n",
    "    def _plus_button_fired(self):\n",
    "        self.result = self.num_1 + self.num_2\n",
    "    \n",
    "    def _minus_button_fired(self):\n",
    "        self.result = self.num_1 - self.num_2\n",
    "    \n",
    "    def _mul_button_fired(self):\n",
    "        self.result = self.num_1 * self.num_2\n",
    "\n",
    "    def _div_button_fired(self):\n",
    "        self.result = self.num_1 / self.num_2\n",
    "\n",
    "cal_object = Calculator()"
   ]
  },
  {
   "cell_type": "code",
   "execution_count": null,
   "metadata": {},
   "outputs": [
    {
     "name": "stderr",
     "output_type": "stream",
     "text": [
      "Exception occurred in traits notification handler for object: <__main__.Calculator object at 0x7f84416699e8>, trait: div_button, old value: <undefined>, new value: 0\n",
      "Traceback (most recent call last):\n",
      "  File \"/home/zichao/anaconda3/envs/traitsui/lib/python3.6/site-packages/traits/trait_notifiers.py\", line 394, in __call__\n",
      "    self.handler(*args)\n",
      "  File \"<ipython-input-145-562c19431b8b>\", line 32, in _div_button_fired\n",
      "    self.result = self.num_1 / self.num_2\n",
      "ZeroDivisionError: float division by zero\n"
     ]
    },
    {
     "name": "stdout",
     "output_type": "stream",
     "text": [
      "Exception occurred in traits notification handler.\n",
      "Please check the log file for details.\n"
     ]
    },
    {
     "name": "stderr",
     "output_type": "stream",
     "text": [
      "Exception occurred in traits notification handler for object: <__main__.Calculator object at 0x7f84416699e8>, trait: div_button, old value: <undefined>, new value: 0\n",
      "Traceback (most recent call last):\n",
      "  File \"/home/zichao/anaconda3/envs/traitsui/lib/python3.6/site-packages/traits/trait_notifiers.py\", line 394, in __call__\n",
      "    self.handler(*args)\n",
      "  File \"<ipython-input-145-562c19431b8b>\", line 32, in _div_button_fired\n",
      "    self.result = self.num_1 / self.num_2\n",
      "ZeroDivisionError: float division by zero\n"
     ]
    }
   ],
   "source": [
    "cal_object.configure_traits()"
   ]
  },
  {
   "cell_type": "code",
   "execution_count": null,
   "metadata": {},
   "outputs": [],
   "source": []
  }
 ],
 "metadata": {
  "kernelspec": {
   "display_name": "Python 3",
   "language": "python",
   "name": "python3"
  },
  "language_info": {
   "codemirror_mode": {
    "name": "ipython",
    "version": 3
   },
   "file_extension": ".py",
   "mimetype": "text/x-python",
   "name": "python",
   "nbconvert_exporter": "python",
   "pygments_lexer": "ipython3",
   "version": "3.6.9"
  }
 },
 "nbformat": 4,
 "nbformat_minor": 2
}
